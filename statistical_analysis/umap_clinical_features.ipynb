{
 "cells": [
  {
   "cell_type": "markdown",
   "id": "63168b66-4ccc-4748-be04-cc6053272191",
   "metadata": {},
   "source": [
    "# Dependencies and parameters"
   ]
  },
  {
   "cell_type": "code",
   "execution_count": null,
   "id": "e40bf94e-9299-4048-ae63-35e64dc229d7",
   "metadata": {},
   "outputs": [],
   "source": [
    "import pandas as pd\n",
    "import numpy as np\n",
    "import umap\n",
    "import hdbscan\n",
    "from pandas.api.types import is_string_dtype, is_numeric_dtype\n",
    "from sklearn.preprocessing import StandardScaler, MinMaxScaler, OrdinalEncoder\n",
    "from sklearn.model_selection import RandomizedSearchCV, GridSearchCV\n",
    "from sklearn.feature_selection import VarianceThreshold\n",
    "from sklearn.cluster import KMeans\n",
    "from sklearn.metrics import make_scorer\n",
    "import matplotlib.pyplot as plt\n",
    "import matplotlib.ticker as plticker\n",
    "import matplotlib.font_manager\n",
    "import seaborn as sns\n",
    "import plotly.express as px\n",
    "import plotly.io as pio\n",
    "import plotly.graph_objects as go\n",
    "from plotly.subplots import make_subplots\n",
    "import itertools\n",
    "import warnings\n",
    "import scipy\n",
    "from scipy import stats                  \n",
    "import statsmodels.sandbox.stats.multicomp as mc\n",
    "import statsmodels.stats.multitest as mt\n",
    "from clusteval import clusteval\n",
    "from scipy.stats import hypergeom\n",
    "import scikit_posthocs as sp\n",
    "import prince\n",
    "from psmpy import PsmPy\n",
    "from tableone import TableOne, load_dataset\n",
    "from yellowbrick.cluster import KElbowVisualizer\n",
    "from ipynb.fs.full.txt_to_analysis import txt_to_analysis"
   ]
  },
  {
   "cell_type": "code",
   "execution_count": null,
   "id": "fc4148c7-af5b-4e2a-9493-48aa78fe9cfd",
   "metadata": {},
   "outputs": [],
   "source": [
    "# Import Arial fonts\n",
    "import matplotlib.font_manager as font_manager\n",
    "\n",
    "# Add every font at the specified location\n",
    "font_dir = [r\"/home/pps21@isd.csc.mrc.ac.uk/pps21/arial\"]\n",
    "for font in font_manager.findSystemFonts(font_dir):\n",
    "    font_manager.fontManager.addfont(font)"
   ]
  },
  {
   "cell_type": "code",
   "execution_count": null,
   "id": "a7ca3334-e3da-4091-8526-790688effbe2",
   "metadata": {},
   "outputs": [],
   "source": [
    "# Table display\n",
    "pd.set_option('display.max_columns', 500)\n",
    "pd.set_option('display.max_rows', 500)\n",
    "\n",
    "# Plot output format\n",
    "%matplotlib inline\n",
    "import matplotlib_inline\n",
    "matplotlib_inline.backend_inline.set_matplotlib_formats('png')\n",
    "# matplotlib_inline.backend_inline.set_matplotlib_formats('pdf') # uncomment for pdf version in notebook\n",
    "\n",
    "# Plot settings\n",
    "disc_color = px.colors.qualitative.Plotly\n",
    "cont_color = px.colors.sequential.Turbo\n",
    "plt.rcParams['axes.facecolor'] = 'none'\n",
    "plt.rcParams['xtick.bottom'] = True\n",
    "plt.rcParams['ytick.left'] = True\n",
    "plt.rcParams['font.family'] = 'arial'\n",
    "plt.rcParams['figure.dpi'] = 300\n",
    "\n",
    "# Warning display\n",
    "warnings.filterwarnings(action='ignore')\n",
    "warnings.simplefilter(action='ignore')\n",
    "\n",
    "# Random seed\n",
    "np.random.seed(1)"
   ]
  },
  {
   "cell_type": "markdown",
   "id": "fcf5e735-b0c6-46c6-bd9f-21cb97c22430",
   "metadata": {},
   "source": [
    "# Clinical features"
   ]
  },
  {
   "cell_type": "markdown",
   "id": "46ce8525-8c86-40fb-9e77-6514f3f165be",
   "metadata": {},
   "source": [
    "## Original dataset"
   ]
  },
  {
   "cell_type": "code",
   "execution_count": null,
   "id": "b324b52a-fb86-48b8-95fd-2bc450b05f64",
   "metadata": {},
   "outputs": [],
   "source": [
    "# Clinical features - non imputed\n",
    "HCM_METADATA = r\"/home/pps21@isd.csc.mrc.ac.uk/pps21/cardiac-dimred/data/raw/rbh_superset_filamentinfo.csv\"\n",
    "df_hcm = pd.read_csv(HCM_METADATA, encoding=\"ISO-8859-1\")\n",
    "df_hcm = df_hcm.rename(columns={'ID':'patient_id'})\n",
    "df_hcm = df_hcm.drop_duplicates(subset='patient_id')\n",
    "df_hcm = df_hcm.sort_values(by='patient_id').reset_index(drop=True)\n",
    "df_hcm = df_hcm.set_index('patient_id')\n",
    "df_hcm = df_hcm[df_hcm.genotype.isin(['PLP','NEG','VUS'])]\n",
    "\n",
    "# Wrangle categorical data\n",
    "dic_123 = {1:True,2:False,3:np.nan}\n",
    "var_123 = []\n",
    "var_15 = []\n",
    "for field in df_hcm.columns:\n",
    "    if (set(df_hcm[field].dropna().unique())==set([1,2,3])):\n",
    "        df_hcm[field] = df_hcm[field].replace(dic_123)\n",
    "        var_123.append(field)\n",
    "    elif (set(df_hcm[field].dropna().unique())==set([1,2,3,4,5])):\n",
    "        df_hcm[field] = df_hcm[field].replace({5:np.nan})\n",
    "        var_15.append(field)\n",
    "    else:\n",
    "        True\n",
    "print(f'Variables processed with 123 rule: {var_123}')\n",
    "print(f'Variables processed with 1-5 rule: {var_15}')\n",
    "\n",
    "dic_smoking = {1:True,2:False,3:np.nan,4:'Ex'}\n",
    "dic_aff_region = {0:np.nan, 1:'Septal', 2:'Anterior', 3:'Lateral', 4:'Inferior'}\n",
    "dic_aff_level = {0:np.nan, 1:'Base', 2:'Mid', 3:'Apex'}\n",
    "dic_sev = {1: 'None', 2: 'Minimal', 3: 'Moderate', 4: 'Severe'}\n",
    "df_hcm['Gen.Smoking'] = df_hcm['Gen.Smoking'].replace(dic_smoking)\n",
    "df_hcm['Hcm.Lvmostaffectedsegment'] = df_hcm['Hcm.Lvmostaffectedsegment'].replace(dic_aff_region)\n",
    "df_hcm['Hcm.Mostaffectedlevel'] = df_hcm['Hcm.Mostaffectedlevel'].replace(dic_aff_level)\n",
    "df_hcm['Hcm.Mitralregurgitation'] = df_hcm['Hcm.Mitralregurgitation'].replace(dic_sev)\n",
    "df_hcm['Hcm.Lvgadolinum'] = df_hcm['Hcm.Lvgadolinum'].replace(dic_sev)\n",
    "\n",
    "# Wrangle continuous variables\n",
    "non_null_measurements = ['age_at_scan',\n",
    "                         'Hcm.Bsa',\n",
    "                         'Gen.Height',\n",
    "                         'Gen.Weight',\n",
    "                         'Gen.Pulserate',\n",
    "                         'Gen.Systolic',\n",
    "                         'Gen.Diastolic',\n",
    "                         'Hcm.Edv',\n",
    "                         'Hcm.Esv',\n",
    "                         'Hcm.Sv',\n",
    "                         'Hcm.Ef',\n",
    "                         'Hcm.Lvm',\n",
    "                         'Hcm.Maxlvwallthickness',\n",
    "                         'Hcm.Lvotpeakvelocity']\n",
    "df_hcm[non_null_measurements] = df_hcm[non_null_measurements].replace(0,np.nan)\n",
    "\n",
    "# Ordinal to category\n",
    "ord_var = ['Gen.Activityscore', 'Gen.Ccs', 'Gen.Nyha', \n",
    "          'Gen.Smoking']\n",
    "for var in ord_var:\n",
    "    df_hcm[var] = df_hcm[var].astype('category')\n",
    "    \n",
    "# All non-numerical to object\n",
    "object_cols = df_hcm.select_dtypes(exclude=np.number)\n",
    "df_hcm[object_cols.columns] = df_hcm[object_cols.columns].astype('object')\n",
    "\n",
    "df_org = df_hcm.copy(deep=True)\n",
    "df_hcm = pd.DataFrame()\n",
    "\n",
    "print(df_org.shape)\n",
    "df_org.head(5)"
   ]
  },
  {
   "cell_type": "code",
   "execution_count": null,
   "id": "0a79e73b-06ee-460b-b80c-2fe0a5fc7d67",
   "metadata": {},
   "outputs": [],
   "source": [
    "# Order features\n",
    "df_org = df_org[[\"age_at_scan\", \"race\", \"Hcm.Bsa\", \"sex\", \"Gen.Diastolic\", \"Gen.Systolic\", \"Gen.Pulserate\", \"Gen.Ht\", \"Gen.Dm\", \"Gen.Smoking\", \"Gen.Alcohol\", \n",
    "                 \"Gen.Activityscore\", \"Gen.Cad\", \"Gen.Mi\", \"Hcm.Familyhistoryofhcm\", \"Hcm.Familyhistoryofscd\", \"Gen.Ccs\", \"Gen.Nyha\", \"Hcm.Edv\", \"Hcm.Esv\", \n",
    "                 \"Hcm.Sv\", \"Hcm.Ef\", \"Hcm.Lvm\", \"Hcm.Maxlvwallthickness\", \"Hcm.Lvgadolinum\", \"Hcm.Lvmostaffectedsegment\", \"Hcm.Mitralregurgitation\", \n",
    "                 \"Hcm.Mostaffectedlevel\", \"Hcm.Rvhypertrophy\", \"Hcm.Coincidentinfarction\", \"Hcm.Lvoto\", \"Hcm.Lvotpeakvelocity\", \"Gen.Acearb\", \"Gen.Asaclopi\", \n",
    "                 \"Gen.Betablocker\", \"Gen.Diuretic\", \"Gen.Cabg\", \"Gen.Pci\", \"Hcm.Perfusiondeficit\"]]"
   ]
  },
  {
   "cell_type": "code",
   "execution_count": null,
   "id": "bd5650e2-a608-43de-a811-9518069c3cc2",
   "metadata": {
    "scrolled": true,
    "tags": []
   },
   "outputs": [],
   "source": [
    "# Tableone for paper\n",
    "mytable = TableOne(df_org, \n",
    "                   # columns=columns, categorical=categorical, groupby=groupby, nonnormal=nonnormal, rename=labels, pval=False\n",
    "                  )\n",
    "print(mytable.tabulate(tablefmt = \"latex\"))"
   ]
  },
  {
   "cell_type": "markdown",
   "id": "9744508d-d533-44a2-a39b-0e345f1fdfa0",
   "metadata": {},
   "source": [
    "## Imputed dataset (with mice package)"
   ]
  },
  {
   "cell_type": "code",
   "execution_count": null,
   "id": "cb1a289e-c10a-417d-a6a9-725039f1b45d",
   "metadata": {},
   "outputs": [],
   "source": [
    "df_hcm = pd.read_csv(r\"/home/pps21@isd.csc.mrc.ac.uk/pps21/cardiac-dimred/data/raw/metadata_imputed.csv\", index_col=0)\n",
    "df_hcm.index.names = ['patient_id']"
   ]
  },
  {
   "cell_type": "code",
   "execution_count": null,
   "id": "85eeb3fb-1bf7-4cf0-86d6-1598e5068fdc",
   "metadata": {
    "tags": []
   },
   "outputs": [],
   "source": [
    "df_hcm['plp'] = np.nan\n",
    "df_hcm.loc[df_hcm.genotype=='PLP','plp'] = True\n",
    "df_hcm['plp'] = df_hcm['plp'].fillna(False)"
   ]
  },
  {
   "cell_type": "code",
   "execution_count": null,
   "id": "97ec567a-6033-433c-9ab4-68d6cfdf0c48",
   "metadata": {},
   "outputs": [],
   "source": [
    "# Wrangle categorical variables\n",
    "\n",
    "# Remove patients with a lot of missing information\n",
    "dic_123 = {1:True,2:False,3:np.nan}\n",
    "var_123 = []\n",
    "var_15 = []\n",
    "for field in df_hcm.columns:\n",
    "    if (set(df_hcm[field].dropna().unique())==set([1,2])):\n",
    "        df_hcm[field] = df_hcm[field].replace(dic_123)\n",
    "        var_123.append(field)\n",
    "    elif (set(df_hcm[field].dropna().unique())==set([1,2,3,4])):\n",
    "        df_hcm[field] = df_hcm[field].replace({5:np.nan})\n",
    "        var_15.append(field)\n",
    "    else:\n",
    "        True\n",
    "print(f'Variables processed with 123 rule: {var_123}')\n",
    "print(f'Variables processed with 1-5 rule: {var_15}')"
   ]
  },
  {
   "cell_type": "code",
   "execution_count": null,
   "id": "a0937194-db6d-4657-bc59-3d497e674bf2",
   "metadata": {
    "tags": []
   },
   "outputs": [],
   "source": [
    "# Convert ordinal variables to category\n",
    "ord_var = ['Gen.Activityscore', 'Gen.Ccs', 'Gen.Nyha', 'Hcm.Lvgadolinum', 'Hcm.Mitralregurgitation',\n",
    "          'Gen.Smoking']\n",
    "for var in ord_var:\n",
    "    df_hcm[var] = df_hcm[var].astype('category')"
   ]
  },
  {
   "cell_type": "code",
   "execution_count": null,
   "id": "35199755-8ce1-42cd-9beb-6fcd6b21a513",
   "metadata": {},
   "outputs": [],
   "source": [
    "print(df_hcm.shape)\n",
    "df_hcm.head(5)"
   ]
  },
  {
   "cell_type": "code",
   "execution_count": null,
   "id": "e11efc04-bfd7-45fa-ad6f-d69dc548009c",
   "metadata": {},
   "outputs": [],
   "source": [
    "# Outcome dataframe\n",
    "list_outcome = ['genotype', 'Deceased', 'filaments', 'type', 'plp']\n",
    "df_outcome = df_hcm[list_outcome]\n",
    "df_hcm = df_hcm.drop(columns=list_outcome)"
   ]
  },
  {
   "cell_type": "code",
   "execution_count": null,
   "id": "fedb096a-df57-4aff-95b0-bfcc4ca4fa8e",
   "metadata": {},
   "outputs": [],
   "source": [
    "# Convert all non-numerical variables to object type\n",
    "object_cols = df_hcm.select_dtypes(exclude=np.number)\n",
    "df_hcm[object_cols.columns] = df_hcm[object_cols.columns].astype('object')"
   ]
  },
  {
   "cell_type": "markdown",
   "id": "72fd7d44-fc02-43ae-947a-ab2475b67599",
   "metadata": {},
   "source": [
    "# Process mixed-type data"
   ]
  },
  {
   "cell_type": "markdown",
   "id": "8cd19447-547c-4808-bd69-652a7b9dd901",
   "metadata": {
    "jp-MarkdownHeadingCollapsed": true,
    "tags": []
   },
   "source": [
    "## FAMD (not used)"
   ]
  },
  {
   "cell_type": "code",
   "execution_count": null,
   "id": "3dc44476-37d8-4556-8ede-ddbe46aebfa5",
   "metadata": {},
   "outputs": [],
   "source": [
    "famd = prince.FAMD(n_components=15, n_iter=3,\n",
    "                   copy=True, check_input=True,\n",
    "                   engine='auto',random_state=0)\n",
    "\n",
    "# famd = famd.fit(df_hcm)\n",
    "# df_famd = famd.row_coordinates(df_hcm)\n",
    "# df_famd.columns = [f'umap_{int(x)+1}' for x in df_famd.columns]"
   ]
  },
  {
   "cell_type": "code",
   "execution_count": null,
   "id": "6df3779f-6a1a-4c65-966b-83cc8bfd505f",
   "metadata": {},
   "outputs": [],
   "source": [
    "# df_famd.head(5)"
   ]
  },
  {
   "cell_type": "markdown",
   "id": "9cb511f0-3140-46b0-8ccd-8687c4f8bbbc",
   "metadata": {
    "jp-MarkdownHeadingCollapsed": true,
    "tags": []
   },
   "source": [
    "## UMAP with one-hot encoding and normalisation (not used)"
   ]
  },
  {
   "cell_type": "code",
   "execution_count": null,
   "id": "f88b4330-ca82-4e0f-b900-d8a87b4dff6b",
   "metadata": {},
   "outputs": [],
   "source": [
    "def calculate_zscore(df, columns):\n",
    "  '''\n",
    "  scales columns in dataframe using z-score\n",
    "  '''\n",
    "  df = df.copy()\n",
    "  for col in columns:\n",
    "      df[col] = (df[col] - df[col].mean())/df[col].std(ddof=0)\n",
    "\n",
    "  return df\n",
    "\n",
    "\n",
    "def one_hot_encode(df, columns):\n",
    "  '''\n",
    "  one hot encodes list of columns and\n",
    "  concatenates them to the original df\n",
    "  '''\n",
    "\n",
    "  concat_df = pd.concat([pd.get_dummies(df[col], drop_first=True, prefix=col) for col in columns], axis=1)\n",
    "  one_hot_cols = concat_df.columns\n",
    "\n",
    "  return concat_df, one_hot_cols\n",
    "\n",
    "# df = df_hcm.copy(deep=True)\n",
    "# numeric_cols = df.select_dtypes(include=np.number)\n",
    "# cat_cols = df.select_dtypes(include='object')\n",
    "  \n",
    "# # numeric process\n",
    "# normalized_df = calculate_zscore(df, numeric_cols)\n",
    "# normalized_df = normalized_df[numeric_cols.columns]\n",
    "\n",
    "# # categorical process\n",
    "# cat_one_hot_df, one_hot_cols = one_hot_encode(df, cat_cols)\n",
    "# cat_one_hot_norm_df = calculate_zscore(cat_one_hot_df, one_hot_cols)\n",
    "\n",
    "# # Merge DataFrames\n",
    "# processed_df = pd.concat([normalized_df, cat_one_hot_norm_df], axis=1)"
   ]
  },
  {
   "cell_type": "code",
   "execution_count": null,
   "id": "83a2b711-d162-4cd8-a306-da484ce12446",
   "metadata": {},
   "outputs": [],
   "source": [
    "# processed_df.head(5)"
   ]
  },
  {
   "cell_type": "markdown",
   "id": "749b6f07-ab78-4d9b-a5c3-050ed810ded4",
   "metadata": {
    "tags": []
   },
   "source": [
    "## UMAP by transforming all to categorical"
   ]
  },
  {
   "cell_type": "code",
   "execution_count": null,
   "id": "18ef75a5-86bc-4093-8d8f-63219007f2d8",
   "metadata": {
    "scrolled": true,
    "tags": []
   },
   "outputs": [],
   "source": [
    "def get_knn_bins(df, cols, bins=5, drop_cols=True):\n",
    "  \n",
    "  for col in cols:\n",
    "    \n",
    "    kmeans  = KMeans(n_clusters=bins).fit(df[col].to_frame().values.reshape(-1,1))\n",
    "    results = pd.DataFrame(kmeans.labels_, columns=[col + '_centroid'])\n",
    "\n",
    "    df = df.reset_index()\n",
    "    df[col + '_centroid'] = results[col + '_centroid']\n",
    "  \n",
    "    knn_bin_df = pd.DataFrame(kmeans.cluster_centers_)\n",
    "    knn_bin_df = knn_bin_df.astype(int).reset_index()\n",
    "\n",
    "    temp_df = pd.merge(df[col + '_centroid'],\n",
    "                       knn_bin_df, \n",
    "                       left_on=col + '_centroid',\n",
    "                       right_on='index',\n",
    "                       how='left')\n",
    "    \n",
    "    # rename empty column header 0 -> column_name value\n",
    "    temp_df = temp_df.rename(columns={0:col+'_value'})\n",
    "\n",
    "    temp_df.loc[:,col+'_value'] = col + '_' + temp_df[col+'_value'].astype(str)\n",
    "\n",
    "    df = pd.concat([df, temp_df[col+'_value']], axis=1)\n",
    "    df.drop([col + '_centroid', 'index'], axis=1, inplace=True)\n",
    "\n",
    "\n",
    "#     fig, (ax1, ax2) = plt.subplots(1, 2)\n",
    "    \n",
    "#     ax1.hist(df[col].values, bins=50)\n",
    "#     ax1.set_title('Histogram of ' + col)\n",
    "\n",
    "#     # produce the second bar chart need the centroids and sort values to make bar chart\n",
    "#     # resemble the original distribution.\n",
    "#     Count_Bins = temp_df[col + '_value'].value_counts().rename_axis('bins').reset_index(name='counts')\n",
    "#     extract_number = Count_Bins.bins.str.extract('([a-zA-Z]+)([^a-zA-Z]+)', expand=True)\n",
    "#     extract_number.columns = ['Text', 'Number']\n",
    "#     Count_Bins['bin_centroid'] = extract_number['Number']\n",
    "#     Count_Bins.sort_values(by=['bins'], ascending=True, inplace=True)\n",
    "\n",
    "#     # plot results\n",
    "#     ax2.bar(Count_Bins.iloc[:, 0], Count_Bins.iloc[:, 1])\n",
    "#     ax2.set_title('Bar Chart of ' + col + ' Binned')\n",
    "#     ax2.tick_params(labelrotation=90)\n",
    "\n",
    "#     plt.show()\n",
    "#     plt.tight_layout()\n",
    "\n",
    "  if drop_cols:\n",
    "    return df.drop(cols, axis=1)\n",
    "\n",
    "  else:\n",
    "    return df\n",
    "\n",
    "numeric_cols = df_hcm.select_dtypes(include=np.number)\n",
    "df_hcm.index.names = ['index']\n",
    "print('Numerical variables converted to categorical with bins:')\n",
    "print(numeric_cols.columns.to_list())\n",
    "recoded_df = get_knn_bins(df_hcm, numeric_cols, bins=5)\n",
    "recoded_df.index = df_hcm.index\n",
    "df_hcm.index.names = ['patient_id']"
   ]
  },
  {
   "cell_type": "code",
   "execution_count": null,
   "id": "8440f36b-edb5-44de-ae6e-7cf1d18af6b1",
   "metadata": {},
   "outputs": [],
   "source": [
    "recoded_df.head(5)"
   ]
  },
  {
   "cell_type": "code",
   "execution_count": null,
   "id": "6cb3db28-7b9a-466e-bb02-840976b54226",
   "metadata": {},
   "outputs": [],
   "source": [
    "# Convert all variables to binary with one hot encoding\n",
    "def one_hot_encode(df, columns):\n",
    "  '''\n",
    "  one hot encodes list of columns and\n",
    "  concatenates them to the original df\n",
    "  '''\n",
    "\n",
    "  concat_df = pd.concat([pd.get_dummies(df[col], drop_first=True, prefix=col) for col in columns], axis=1)\n",
    "  one_hot_cols = concat_df.columns\n",
    "\n",
    "  return concat_df, one_hot_cols\n",
    "\n",
    "cat_cols = recoded_df.columns\n",
    "df_one_hot, _ = one_hot_encode(recoded_df, cat_cols)"
   ]
  },
  {
   "cell_type": "code",
   "execution_count": null,
   "id": "5517ca53-b3af-45f0-b4a4-b4f3529688a8",
   "metadata": {},
   "outputs": [],
   "source": [
    "print(df_one_hot.shape)\n",
    "df_one_hot.head(5)"
   ]
  },
  {
   "cell_type": "markdown",
   "id": "96fc2144-e52f-4b7d-a7f3-6334103bee22",
   "metadata": {},
   "source": [
    "# Dimensionality reduction with UMAP"
   ]
  },
  {
   "cell_type": "code",
   "execution_count": null,
   "id": "3a005ff7-5aec-4dde-a666-35731e2cbdb6",
   "metadata": {},
   "outputs": [],
   "source": [
    "df_all = df_one_hot.copy(deep=True)"
   ]
  },
  {
   "cell_type": "markdown",
   "id": "46010d35-c80f-43b1-8bdb-c7d2c3f3ea5c",
   "metadata": {},
   "source": [
    "## Impact of parameters: number of neighbors and minimum distance"
   ]
  },
  {
   "cell_type": "code",
   "execution_count": null,
   "id": "1ec0fcd7-b5c4-43b6-aadb-bac16765ce3d",
   "metadata": {},
   "outputs": [],
   "source": [
    "# Explore impact of number of neighbors and minimum distance on UMAP1 VS UMAP 2 plot\n",
    "PARAM = {\n",
    "        'metric' : 'dice',\n",
    "        'random_state' : 1,\n",
    "        'transform_seed': 42\n",
    "        }\n",
    "list_n_neigh = [2, 3, 5, 8, 15, 30]\n",
    "list_min_dist = [1, 0.5, 0.01, 0.0001, 0.000001, 0.00000001]\n",
    "n_comp = 30\n",
    "\n",
    "fig, axs = plt.subplots(6, 6, figsize=(90, 70))\n",
    "for i, n_neigh in enumerate(list_n_neigh):\n",
    "    for j, min_dist in enumerate(list_min_dist):\n",
    "        reducer = umap.UMAP(n_neighbors  = int(n_neigh),\n",
    "                            min_dist     = float(min_dist),\n",
    "                            metric       = PARAM['metric'],\n",
    "                            random_state = int(PARAM['random_state']),\n",
    "                            n_components = n_comp,\n",
    "                            transform_seed = int(PARAM['transform_seed']))\n",
    "\n",
    "        try:\n",
    "            proj = reducer.fit_transform(df_all.iloc[:,:].reset_index(drop=True))\n",
    "        except Exception as e:\n",
    "            print(e)\n",
    "            continue\n",
    "        df_umap = pd.DataFrame(data=proj, columns=[f'umap_{x+1}' for x in range(n_comp)])\n",
    "        df_umap.index = df_all.index\n",
    "\n",
    "        sns.scatterplot(data=df_umap, x='umap_1', y='umap_2', ax=axs[i,j])\n",
    "\n",
    "for ax, col in zip(axs[0,:], list_min_dist):\n",
    "    ax.set_title(col, size=60)\n",
    "for ax, row in zip(axs[:,0], list_n_neigh):\n",
    "    ax.set_ylabel(row, size=60)"
   ]
  },
  {
   "cell_type": "markdown",
   "id": "dd74f08c-158f-45d3-994c-1206ab66b596",
   "metadata": {},
   "source": [
    "## Impact of parameter: number of components"
   ]
  },
  {
   "cell_type": "code",
   "execution_count": null,
   "id": "6c9a45a0-e183-409e-93eb-4da5a068378c",
   "metadata": {},
   "outputs": [],
   "source": [
    "# Explore impact of number of components on UMAP1 VS UMAP 2 plot\n",
    "list_n_comp = [2, 3, 5, 8, 10, 15, 20, 25, 30, 50]\n",
    "n_neighbors = 8\n",
    "min_dist = 0.000001\n",
    "\n",
    "list_df_umap = []\n",
    "fig, axs = plt.subplots(2, 5, figsize=(50, 20))\n",
    "for i, n_comp in enumerate(list_n_comp):\n",
    "    reducer = umap.UMAP(n_neighbors  = n_neighbors,\n",
    "                        min_dist     = min_dist,\n",
    "                        metric       = PARAM['metric'],\n",
    "                        random_state = int(PARAM['random_state']),\n",
    "                        n_components = n_comp)\n",
    "    \n",
    "    #df_all = df_all[~df_all.index.isin(list_outlier)]\n",
    "    proj = reducer.fit_transform(df_all.iloc[:,:].reset_index(drop=True))\n",
    "    df_umap = pd.DataFrame(data=proj, columns=[f'umap_{x+1}' for x in range(n_comp)])\n",
    "    df_umap.index = df_all.index\n",
    "    list_df_umap.append(df_umap)\n",
    "    \n",
    "    sns.scatterplot(data=df_umap, x='umap_1', y='umap_2', ax=axs.flat[i])\n",
    "    axs.flat[i].set_title(n_comp, size=20)"
   ]
  },
  {
   "cell_type": "code",
   "execution_count": null,
   "id": "e033d0e1-7c0b-41f3-99c6-6ce20dcac7e9",
   "metadata": {},
   "outputs": [],
   "source": [
    "# Define definitive dataframe with UMAP components\n",
    "ix = 7 # choose arbitrarily depending on the preferred 2D space layout\n",
    "df_umap = list_df_umap[ix] # n_comp=15\n",
    "plt.figure(figsize=(15, 10))\n",
    "ax = sns.scatterplot(data=df_umap, x='umap_1', y='umap_2')\n",
    "ax.set_title(f'UMAP 2D projection: no. neighbours={n_neighbors}, min dist={min_dist}, no. components={list_n_comp[ix]}',\n",
    "           pad=20, fontsize=20)\n",
    "plt.xlabel('UMAP 1', fontsize=12)\n",
    "plt.ylabel('UMAP 2', fontsize=12)\n",
    "plt.show(ax)"
   ]
  },
  {
   "cell_type": "code",
   "execution_count": null,
   "id": "b651d3d5-d1dc-4582-9cfe-617391d0bbc9",
   "metadata": {},
   "outputs": [],
   "source": [
    "# Import UMAP coordinates if needed (reproducibility)\n",
    "df_umap = pd.read_csv(r\"/home/pps21@isd.csc.mrc.ac.uk/pps21/cardiac-dimred/data/raw/umap.csv\", index_col=0)"
   ]
  },
  {
   "cell_type": "markdown",
   "id": "7dba89ae-5856-4b80-9810-218b9a701fb6",
   "metadata": {},
   "source": [
    "# Clustering"
   ]
  },
  {
   "cell_type": "markdown",
   "id": "4db43992-d42e-48a2-b108-ad7feaad3954",
   "metadata": {},
   "source": [
    "## K-means"
   ]
  },
  {
   "cell_type": "code",
   "execution_count": null,
   "id": "1fcc5e66-2535-46ed-922d-564e75127450",
   "metadata": {},
   "outputs": [],
   "source": [
    "# Elbow method\n",
    "df_kmeans = df_umap.copy(deep=True)\n",
    "distortions = []\n",
    "K = range(1,10)\n",
    "for k in K:\n",
    "    kmeanModel = KMeans(n_clusters=k)\n",
    "    kmeanModel.fit(df_kmeans)\n",
    "    distortions.append(kmeanModel.inertia_)\n",
    "plt.figure(figsize=(16,8))\n",
    "plt.plot(K, distortions, '-bx')\n",
    "plt.xlabel('k')\n",
    "plt.ylabel('Distortion')\n",
    "plt.title('The elbow method showing the optimal k')\n",
    "plt.show()"
   ]
  },
  {
   "cell_type": "code",
   "execution_count": null,
   "id": "8132aa31-8131-4f75-952c-e17afb7c8c7f",
   "metadata": {},
   "outputs": [],
   "source": [
    "# Silhouette Score to find optimal number of clusters\n",
    "model = KMeans()\n",
    "# k is range of number of clusters.\n",
    "df_kmeans = df_umap.copy(deep=True)\n",
    "visualizer = KElbowVisualizer(model, k=(3,30),metric='silhouette', timings= True)\n",
    "visualizer.fit(df_kmeans)\n",
    "visualizer.show()\n",
    "optimal_k = visualizer.elbow_value_"
   ]
  },
  {
   "cell_type": "code",
   "execution_count": null,
   "id": "77277d56-4337-4d00-b2b3-d7fb0b342e5d",
   "metadata": {},
   "outputs": [],
   "source": [
    "# Perform K-means\n",
    "n_clusters = optimal_k\n",
    "kmeanModel = KMeans(n_clusters=n_clusters, random_state=1)\n",
    "kmeanModel.fit(df_kmeans)\n",
    "df_kmeans['kmeans_label'] = kmeanModel.predict(df_umap)\n",
    "\n",
    "df_kmeans['kmeans_label'] = df_kmeans['kmeans_label'] + 1\n",
    "\n",
    "plt.figure(figsize=(16,8))\n",
    "sns.scatterplot(data=df_kmeans, x='umap_1', y='umap_2', hue='kmeans_label', palette='tab10')\n",
    "plt.title(f'K-Means clusters on UMAP plot (K = {n_clusters} clusters)')\n",
    "plt.show()"
   ]
  },
  {
   "cell_type": "markdown",
   "id": "17467f9c-0c93-4e17-a16c-fa7101136696",
   "metadata": {},
   "source": [
    "# Exploration"
   ]
  },
  {
   "cell_type": "code",
   "execution_count": null,
   "id": "62b9097c-7846-4eb4-813a-bcd2dda6b624",
   "metadata": {},
   "outputs": [],
   "source": [
    "# Merge cluster results and outcomes\n",
    "df_exp = pd.merge(df_kmeans, df_outcome, how='inner', left_index=True, right_index=True)\n",
    "df_exp.head(5)"
   ]
  },
  {
   "cell_type": "markdown",
   "id": "c3990ba0-95e4-4327-b6ee-e2d5db3ae6be",
   "metadata": {},
   "source": [
    "## Visualisation"
   ]
  },
  {
   "cell_type": "code",
   "execution_count": null,
   "id": "8e71a611-97e6-43f6-8b96-79f21c35dcd8",
   "metadata": {},
   "outputs": [],
   "source": [
    "# Choose variable\n",
    "var = 'genotype'\n",
    "\n",
    "# Table: distribution of variable in each cluster\n",
    "df_plot = df_exp.copy(deep=True)\n",
    "df_plot['genotype'] = df_plot['genotype'].replace({'PLP': 'P/LP'})\n",
    "freq_table = df_plot.groupby(['kmeans_label'])[var].value_counts(normalize=True)\n",
    "print(freq_table)\n",
    "\n",
    "# Table: distribution of variable in entire dataset\n",
    "freq = df_plot[var].value_counts(normalize=True)\n",
    "freq = freq.sort_index()\n",
    "print(freq)\n",
    "\n",
    "fig, axs = plt.subplots(1, 4, figsize=(40, 10))\n",
    "\n",
    "# Bar plot: distribution of variable in each cluster\n",
    "freq_table.unstack().plot(kind='bar', color=['green', 'red', 'orange'], stacked=True, ax=axs[0])\n",
    "\n",
    "# Bar plot: distribution of variable in entire dataset\n",
    "freq.to_frame().T.plot.bar(stacked=True, color=['green', 'red', 'orange'], ax=axs[1])\n",
    "\n",
    "# Scatter plot: clusters in UMAP space\n",
    "sns.scatterplot(data=df_plot, x='umap_1', y='umap_2', hue='kmeans_label', palette='Set2', ax=axs[2])\n",
    "\n",
    "# Scatter plot: clusters in UMAP space labelled by genotype\n",
    "sns.scatterplot(data=df_plot, x='umap_1', y='umap_2', hue='kmeans_label', palette='Set2', style='genotype', s=100, ax=axs[3])\n",
    "\n",
    "# Plot settings\n",
    "fig.suptitle('Distribution of genotype profiles per cluster', fontsize=25, y=0.95)\n",
    "\n",
    "axs[0].set_xlabel('K-means cluster', fontsize=12)\n",
    "axs[0].get_legend().remove()\n",
    "axs[1].legend(fontsize=14)\n",
    "axs[2].legend(fontsize=14)\n",
    "axs[2].set_xlabel('UMAP 1', fontsize=12)\n",
    "axs[2].set_ylabel('UMAP 2', fontsize=12)\n",
    "\n",
    "plt.show(fig)"
   ]
  },
  {
   "cell_type": "markdown",
   "id": "8d6890f5-2106-410b-9d27-1148bb7413ce",
   "metadata": {},
   "source": [
    "## Statistical testing"
   ]
  },
  {
   "cell_type": "code",
   "execution_count": null,
   "id": "128e3477-f069-49d8-969d-3692d90ef19a",
   "metadata": {},
   "outputs": [],
   "source": [
    "def chi_sq_test(df, col1, col2):\n",
    "\n",
    "    table = pd.crosstab(df[col1], df[col2])\n",
    "    col_sum = table.sum(axis=0)\n",
    "    col_percents = table/col_sum\n",
    "\n",
    "    res = stats.chi2_contingency(table)\n",
    "    return res[0], res[1]"
   ]
  },
  {
   "cell_type": "code",
   "execution_count": null,
   "id": "171af25c-6582-485d-92cd-4ed76c20ad4a",
   "metadata": {},
   "outputs": [],
   "source": [
    "# Test for statistical differences with Kruskal-Wallis\n",
    "table = []\n",
    "for col in ['genotype']:\n",
    "    try:\n",
    "        if np.issubdtype(df_plot[col].dtype, np.number):\n",
    "            statistics, pvalue = stats.kruskal(*[group[col].dropna().values for name, group in df_plot.groupby('kmeans_label')])\n",
    "            comment = ''\n",
    "        else: \n",
    "            statistics, pvalue = chi_sq_test(df_plot, 'kmeans_label', col)\n",
    "            comment = ''\n",
    "    except Exception as e:\n",
    "        statistics = np.nan\n",
    "        pvalue = np.nan\n",
    "        comment = repr(e)\n",
    "    table += [[col, statistics, pvalue, comment]]\n",
    "df_kruskal = pd.DataFrame(data=table, columns=['field','stats','pvalue','comment'])\n",
    "df_kruskal.pvalue = df_kruskal.pvalue.astype(float)\n",
    "df_kruskal = df_kruskal.sort_values(by='pvalue',ascending=True)\n",
    "df_kruskal = df_kruskal.dropna()\n",
    "df_kruskal"
   ]
  },
  {
   "cell_type": "code",
   "execution_count": null,
   "id": "45f6a92d-6bad-495f-beb9-89e230e7f9c8",
   "metadata": {},
   "outputs": [],
   "source": [
    "# Post hoc test for cluster-specific differences (exact Fisher test)\n",
    "var_list = ['genotype']\n",
    "L = []\n",
    "for var in var_list:\n",
    "    value_list = df_plot[var].unique()\n",
    "    for value in value_list:\n",
    "        bmask = df_plot[var] == value\n",
    "        cluster_labels = df_plot.kmeans_label\n",
    "        for i in np.unique(cluster_labels):\n",
    "            cl_mask = cluster_labels == i\n",
    "            M = df_plot.shape[0]  # Total\n",
    "            n = np.sum(bmask)   # white balls\n",
    "            N = np.sum(cl_mask) # selected\n",
    "            k = np.sum((bmask) & (cl_mask)) # selected and white\n",
    "            pvalue = (1 - hypergeom.cdf(k-1,M,n,N,loc=0))\n",
    "            L.append([var, value, i, pvalue])\n",
    "df_pvalue = pd.DataFrame(data=L, columns=['var', 'value', 'cluster', 'pvalue'])\n",
    "dfpvalue = df_pvalue.sort_values(by='pvalue',ascending=True)\n",
    "\n",
    "# Correction with Benjamini-Hochberg\n",
    "df_pvalue['pvalue_bh'] = mt.multipletests(df_pvalue.pvalue, alpha=0.05, method='fdr_bh')[1]\n",
    "df_pvalue.sort_values(by='pvalue_bh', ascending=True)"
   ]
  },
  {
   "cell_type": "markdown",
   "id": "988bab57-eee8-4d9e-89a1-b2015401e038",
   "metadata": {},
   "source": [
    "## Final plot for paper"
   ]
  },
  {
   "cell_type": "code",
   "execution_count": null,
   "id": "4a61fe5c-d5aa-4ac6-82e4-a9815c2d3f98",
   "metadata": {},
   "outputs": [],
   "source": [
    "# Figure for paper\n",
    "df_plot = df_exp.copy(deep=True)\n",
    "df_plot['genotype'] = df_plot['genotype'].replace({'PLP': 'P/LP'})\n",
    "\n",
    "fig, axs = plt.subplots(1, 3, figsize=(60,16))\n",
    "\n",
    "# Scatter plot: clusters\n",
    "sns.scatterplot(data=df_plot, x='umap_1', y='umap_2', \n",
    "                hue='kmeans_label', \n",
    "                palette=['#ff7f0e', '#9467bd',  '#17becf'],\n",
    "                # style='genotype',\n",
    "                # markers=markers,\n",
    "                s=200,\n",
    "                alpha=0.5,\n",
    "                ax=axs[0]\n",
    "               )\n",
    "\n",
    "# Scatter plot: genotype status\n",
    "sns.scatterplot(data=df_plot, x='umap_1', y='umap_2', \n",
    "                hue='genotype', \n",
    "                palette=['#d62728', '#1f77b4', '#2ca02c'],\n",
    "                linewidth=0,\n",
    "                # style='kmeans_label',\n",
    "                # markers=markers,\n",
    "                s=200,\n",
    "                alpha=0.5,\n",
    "                ax=axs[1]\n",
    "               )\n",
    "\n",
    "# Bar plot: genotype status\n",
    "freq_table.unstack().plot(kind='bar', color=['#d62728', '#1f77b4', '#2ca02c'], stacked=True, ax=axs[2])\n",
    "\n",
    "# Plot parameters\n",
    "# Legend\n",
    "sns.move_legend(\n",
    "    axs[0], \"lower center\", title = 'Cluster',\n",
    "    bbox_to_anchor=(.5, 1), ncol=3, frameon=False, markerscale=2\n",
    ")\n",
    "sns.move_legend(\n",
    "    axs[1], \"lower center\", title = 'Genotype',\n",
    "    bbox_to_anchor=(.5, 1), ncol=3, frameon=False, markerscale=2\n",
    ")\n",
    "sns.move_legend(\n",
    "    axs[2], \"lower center\", title = 'Genotype',\n",
    "    bbox_to_anchor=(.5, 1), ncol=3, frameon=False, markerscale=2\n",
    ")\n",
    "plt.setp(axs[0].get_legend().get_texts(), fontsize='22') # for legend text\n",
    "plt.setp(axs[0].get_legend().get_title(), fontsize='28') # for legend title\n",
    "plt.setp(axs[1].get_legend().get_texts(), fontsize='22') # for legend text\n",
    "plt.setp(axs[1].get_legend().get_title(), fontsize='28') # for legend title\n",
    "plt.setp(axs[2].get_legend().get_texts(), fontsize='22') # for legend text\n",
    "plt.setp(axs[2].get_legend().get_title(), fontsize='28') # for legend title\n",
    "\n",
    "# Axis ticks\n",
    "locy = plticker.MultipleLocator(base=0.5) # this locator puts ticks at regular intervals\n",
    "locx = plticker.MultipleLocator(base=1)\n",
    "axs[0].xaxis.set_major_locator(locx)\n",
    "axs[0].yaxis.set_major_locator(locy)\n",
    "axs[1].xaxis.set_major_locator(locx)\n",
    "axs[1].yaxis.set_major_locator(locy)\n",
    "axs[2].tick_params(labelrotation=0)\n",
    "\n",
    "axs[0].spines['left'].set_color('black')\n",
    "axs[0].spines['bottom'].set_color('black')\n",
    "axs[1].spines['left'].set_color('black')\n",
    "axs[1].spines['bottom'].set_color('black')\n",
    "axs[2].spines['left'].set_color('black')\n",
    "axs[2].spines['bottom'].set_color('black')\n",
    "\n",
    "# Axis labels\n",
    "axs[0].set_xlabel('UMAP 1', fontsize=20)\n",
    "axs[0].set_ylabel('UMAP 2', fontsize=20)\n",
    "axs[1].set_xlabel('UMAP 1', fontsize=20)\n",
    "axs[1].set_ylabel('UMAP 2', fontsize=20)\n",
    "axs[2].set_ylabel('Proportion of subjects', fontsize=20)\n",
    "axs[2].set_xlabel('Cluster', fontsize=20)\n",
    "\n",
    "# Significance markers\n",
    "plt.text(0, 0.4, '**', ha='center', fontsize=35) # neg\n",
    "plt.text(2, 0.9, '*', ha='center', fontsize=35) # vus\n",
    "plt.text(2, 0.65, '**', ha='center', fontsize=35) # plp\n",
    "\n",
    "plt.show()"
   ]
  },
  {
   "cell_type": "markdown",
   "id": "15312f35-c18c-4092-a49a-7109cfecca17",
   "metadata": {},
   "source": [
    "# Statistical testing for feature importance"
   ]
  },
  {
   "cell_type": "code",
   "execution_count": null,
   "id": "ef40c3d0-e907-4828-9566-162a1c2ca42d",
   "metadata": {},
   "outputs": [],
   "source": [
    "# Merge HCM variables and cluster results\n",
    "df = pd.merge(df_kmeans, df_org, how='inner', left_index=True, right_index=True)\n",
    "df = df[[x for x in df.columns if 'umap' not in x]]\n",
    "df.head(5)"
   ]
  },
  {
   "cell_type": "code",
   "execution_count": null,
   "id": "8e080228-6add-49a0-adeb-e8879ebc154b",
   "metadata": {},
   "outputs": [],
   "source": [
    "df_test = df.copy(deep=True)"
   ]
  },
  {
   "cell_type": "markdown",
   "id": "6f74ad5e-a7c0-48eb-a9e2-d4d5cd284091",
   "metadata": {},
   "source": [
    "## Significant features: Kruskal-Wallis test (continuous) and Chi-square (discrete)"
   ]
  },
  {
   "cell_type": "code",
   "execution_count": null,
   "id": "8367bde9-477a-42c8-a27f-b177525e14e5",
   "metadata": {
    "scrolled": true,
    "tags": []
   },
   "outputs": [],
   "source": [
    "# Kruskal-Wallis and Chi-square tests\n",
    "table = []\n",
    "for i, col in enumerate(df_test.columns):\n",
    "    if col == 'kmeans_label':\n",
    "        continue\n",
    "    try:\n",
    "        if np.issubdtype(df_test[col].dtype, np.number):\n",
    "            statistics, pvalue = stats.kruskal(*[group[col].dropna().values for name, group in df_test.groupby('kmeans_label')])\n",
    "            comment = ''\n",
    "            test = 'kruskal'\n",
    "        else: \n",
    "            statistics, pvalue = chi_sq_test(df_test, 'kmeans_label', col)\n",
    "            comment = ''\n",
    "            test = 'chi_sq'\n",
    "    except Exception as e:\n",
    "        statistics = np.nan\n",
    "        pvalue = np.nan\n",
    "        comment = repr(e)\n",
    "    table += [[col, statistics, pvalue, comment, test]]\n",
    "    \n",
    "df_kruskal = pd.DataFrame(data=table, columns=['field','stats','pvalue','comment','test'])\n",
    "df_kruskal.pvalue = df_kruskal.pvalue.astype(float)\n",
    "df_kruskal = df_kruskal.dropna()\n",
    "df_kruskal['pvalue_bh'] = mt.multipletests(df_kruskal.pvalue, alpha=0.05, method='fdr_bh')[1] # correction for Benjamini-Hochberg\n",
    "df_kruskal = df_kruskal.sort_values(by='pvalue_bh',ascending=True).reset_index(drop=True)\n",
    "list_sgnfc = df_kruskal.loc[df_kruskal.pvalue_bh < 0.5, 'field'].values\n",
    "df_kruskal"
   ]
  },
  {
   "cell_type": "markdown",
   "id": "39d62c53-b25d-4462-9daf-197ef1cd478b",
   "metadata": {},
   "source": [
    "## Cluster-specific significant associations"
   ]
  },
  {
   "cell_type": "markdown",
   "id": "f581fbfa-295b-4fbb-84a0-468a7a3cf56e",
   "metadata": {},
   "source": [
    "### Dunn test (continuous)"
   ]
  },
  {
   "cell_type": "code",
   "execution_count": null,
   "id": "e19706a9-9275-4eef-9ce8-0e5cad240592",
   "metadata": {},
   "outputs": [],
   "source": [
    "def dunn_test(df, col, group):\n",
    "    table_p = sp.posthoc_dunn(df, val_col=col, group_col=group)\n",
    "    table_p = table_p.reset_index()\n",
    "    table_p = table_p.rename(columns={'index':'cluster_1'})\n",
    "    table_sgnfc = table_p.melt('cluster_1', var_name='cluster_2', value_name='pvalue')\n",
    "    table_sgnfc = table_sgnfc[table_sgnfc.pvalue < 1]\n",
    "    table_sgnfc = table_sgnfc[~table_sgnfc.apply(frozenset, axis=1).duplicated()]\n",
    "    \n",
    "    return table_sgnfc"
   ]
  },
  {
   "cell_type": "code",
   "execution_count": null,
   "id": "8ab48040-c52b-4422-b363-e87c3248032d",
   "metadata": {
    "scrolled": true,
    "tags": []
   },
   "outputs": [],
   "source": [
    "# Post hoc testing for cluster specific differences: Dunn for continuous\n",
    "list_dunn = []\n",
    "for col in list_sgnfc:\n",
    "    if np.issubdtype(df_test[col].dtype, np.number):\n",
    "        df_sgnfc = dunn_test(df, col, group='kmeans_label')\n",
    "        df_sgnfc['var'] = col\n",
    "        list_dunn.append(df_sgnfc)\n",
    "df_dunn = pd.concat(list_dunn, axis=0)\n",
    "df_dunn = df_dunn[['var', 'cluster_1', 'cluster_2', 'pvalue']].reset_index(drop=True)\n",
    "df_dunn"
   ]
  },
  {
   "cell_type": "markdown",
   "id": "50d27510-1a22-438f-8726-97d60c869277",
   "metadata": {},
   "source": [
    "### Fisher/hypergeometric test (discrete)"
   ]
  },
  {
   "cell_type": "code",
   "execution_count": null,
   "id": "d73f82e4-bd86-4250-9c0f-fedde498545f",
   "metadata": {},
   "outputs": [],
   "source": [
    "def hypergeom_test(df, var):\n",
    "    table_p = []\n",
    "    value_list = df[var].unique()\n",
    "    for value in value_list:\n",
    "        bmask = df[var] == value\n",
    "        cluster_labels = df.kmeans_label\n",
    "        for i in np.unique(cluster_labels):\n",
    "            cl_mask = cluster_labels == i\n",
    "            M = df.shape[0]  # Total\n",
    "            n = np.sum(bmask)   # white balls\n",
    "            N = np.sum(cl_mask) # selected\n",
    "            k = np.sum((bmask) & (cl_mask)) # selected and white\n",
    "            pvalue = (1 - hypergeom.cdf(k-1,M,n,N,loc=0))\n",
    "            table_p.append([var, value, i, pvalue])\n",
    "    return table_p"
   ]
  },
  {
   "cell_type": "code",
   "execution_count": null,
   "id": "1696bbdf-7357-441f-9aaf-0cb74c3e227e",
   "metadata": {
    "scrolled": true,
    "tags": []
   },
   "outputs": [],
   "source": [
    "# Post hoc testing for cluster specific differences: hypergeometric test for discrete\n",
    "list_hypergeom = []\n",
    "for col in list_sgnfc:\n",
    "    if not np.issubdtype(df_test[col].dtype, np.number):\n",
    "        table = hypergeom_test(df, col)\n",
    "        list_hypergeom += table\n",
    "df_hgeom = pd.DataFrame(data=list_hypergeom, columns=['var', 'value', 'cluster', 'pvalue'])\n",
    "df_hgeom = df_hgeom.sort_values(by='pvalue',ascending=True).reset_index(drop=True)\n",
    "df_hgeom"
   ]
  },
  {
   "cell_type": "markdown",
   "id": "0fa7d18e-8431-435f-b95f-56d0d2e4896a",
   "metadata": {},
   "source": [
    "### Correction with Benjamini-Hochberg"
   ]
  },
  {
   "cell_type": "code",
   "execution_count": null,
   "id": "4a2149e8-4bc7-414a-93f1-b4fb2df2f3f1",
   "metadata": {},
   "outputs": [],
   "source": [
    "def convert_pvalue_to_asterisks(pvalue):\n",
    "    if pvalue <= 0.0001:\n",
    "        return \"****\"\n",
    "    elif pvalue <= 0.001:\n",
    "        return \"***\"\n",
    "    elif pvalue <= 0.01:\n",
    "        return \"**\"\n",
    "    elif pvalue <= 0.05:\n",
    "        return \"*\"\n",
    "    return \"ns\""
   ]
  },
  {
   "cell_type": "code",
   "execution_count": null,
   "id": "0c00e123-b686-4b57-999d-6b5154698c76",
   "metadata": {},
   "outputs": [],
   "source": [
    "# Correction with Benjamini-Hochberg\n",
    "dunn_size = df_dunn.shape[0]\n",
    "hgeom_size = df_hgeom.shape[0]\n",
    "pvalue_bh = mt.multipletests([*df_dunn.pvalue.values, *df_hgeom.pvalue.values], alpha=0.05, method='fdr_bh')[1]\n",
    "df_dunn['pvalue_bh'] = pvalue_bh[:dunn_size]\n",
    "df_hgeom['pvalue_bh'] = pvalue_bh[dunn_size:]"
   ]
  },
  {
   "cell_type": "code",
   "execution_count": null,
   "id": "c85f8b41-d6c5-4da8-8d32-f6c50c54928c",
   "metadata": {
    "scrolled": true,
    "tags": []
   },
   "outputs": [],
   "source": [
    "df_dunn = df_dunn.sort_values(by='pvalue_bh', ascending=True)\n",
    "df_dunn = df_dunn[df_dunn.pvalue_bh < 0.05]"
   ]
  },
  {
   "cell_type": "code",
   "execution_count": null,
   "id": "515fd303-93e5-40dd-ad5a-7f29a5d864d1",
   "metadata": {
    "scrolled": true,
    "tags": []
   },
   "outputs": [],
   "source": [
    "df_dunn['asterisk'] = df_dunn['pvalue_bh'].apply(convert_pvalue_to_asterisks)\n",
    "df_dunn"
   ]
  },
  {
   "cell_type": "code",
   "execution_count": null,
   "id": "3d03f67a-5057-4a19-a9df-a3f0f0d80d67",
   "metadata": {
    "scrolled": true,
    "tags": []
   },
   "outputs": [],
   "source": [
    "df_hgeom = df_hgeom.sort_values(by='pvalue_bh', ascending=True)\n",
    "df_hgeom = df_hgeom[df_hgeom.pvalue_bh < 0.05]"
   ]
  },
  {
   "cell_type": "code",
   "execution_count": null,
   "id": "249f02c4-60a9-4a62-9775-bab88b341a9d",
   "metadata": {},
   "outputs": [],
   "source": [
    "# Labels for plot\n",
    "var_red = {'sex': 'Sex',\n",
    "            'Gen.Ht': 'Hypertension', \n",
    "            'Gen.Acearb': 'ACE/ARBs', \n",
    "            'Gen.Asaclopi' :'ASA/Clopi',\n",
    "            'Hcm.Mitralregurgitation': 'Mitral regurgitation',\n",
    "            'Gen.Betablocker': 'Beta blocker', \n",
    "            'Gen.Diuretic': 'Diuretic',\n",
    "            'Hcm.Mostaffectedlevel': 'Most affected level',\n",
    "            'Hcm.Familyhistoryofhcm': 'Family history of HCM', \n",
    "            'Gen.Nyha': 'NYHA score',\n",
    "            'Hcm.Lvoto': 'LVOTO', \n",
    "            'Hcm.Lvgadolinum': 'LV gadolinium', \n",
    "            'Gen.Activityscore': 'Activity score', \n",
    "            'Gen.Cad': 'Coronary artery disease',\n",
    "            }\n",
    "value_red = {'M': 'Male',\n",
    "             'F': 'Female',\n",
    "             'False': 'No',\n",
    "             'Apex': 'Apex',\n",
    "             1: 'ok',\n",
    "             '2': '2',\n",
    "             '3': '3',\n",
    "             'None': 'No'\n",
    "            }"
   ]
  },
  {
   "cell_type": "code",
   "execution_count": null,
   "id": "c06c33b1-206e-40ca-9f25-84d3dc4277f2",
   "metadata": {},
   "outputs": [],
   "source": [
    "def concat_var_val(df):\n",
    "    if df.value_red in ['No']:\n",
    "        legend = df.value_red + ' ' + df.var_red.lower()\n",
    "    elif df.value_red in ['']:\n",
    "        legend = df.value_red + ' ' + df.var_red\n",
    "    else:\n",
    "        legend = df.var_red + ': ' + df.value_red.lower()\n",
    "    \n",
    "    return legend"
   ]
  },
  {
   "cell_type": "code",
   "execution_count": null,
   "id": "55f36345-3fc0-491d-99a6-da4395573bd2",
   "metadata": {},
   "outputs": [],
   "source": [
    "# Create labels for plot\n",
    "df_hgeom['var_red'] = df_hgeom['var'].replace(var_red)\n",
    "df_hgeom['value_red'] = df_hgeom['value'].astype(str).replace(value_red).replace('True','').replace('ok','1')\n",
    "df_hgeom['plot_legend'] = df_hgeom.apply(lambda row : concat_var_val(row), axis=1)"
   ]
  },
  {
   "cell_type": "code",
   "execution_count": null,
   "id": "2cf913e0-1627-4c97-983a-26b51740b773",
   "metadata": {
    "scrolled": true,
    "tags": []
   },
   "outputs": [],
   "source": [
    "df_hgeom['asterisk'] = df_hgeom['pvalue_bh'].apply(convert_pvalue_to_asterisks)\n",
    "df_hgeom"
   ]
  },
  {
   "cell_type": "markdown",
   "id": "329422ad-e0a4-4fe6-a703-fc5fdb895dbb",
   "metadata": {},
   "source": [
    "## Significance plots"
   ]
  },
  {
   "cell_type": "markdown",
   "id": "a5b0b2f7-22a3-4647-825a-924cbbdd0337",
   "metadata": {},
   "source": [
    "### Mean + IQR plots (numerical features)"
   ]
  },
  {
   "cell_type": "code",
   "execution_count": null,
   "id": "c41fe03f-aed0-4a96-bc5c-dc3ed383553d",
   "metadata": {},
   "outputs": [],
   "source": [
    "def q1_diff(x):\n",
    "    return x.median() - x.quantile(0.25)\n",
    "\n",
    "def q3_diff(x):\n",
    "    return x.quantile(0.75) - x.median()\n",
    "\n",
    "f = ['median', q1_diff, q3_diff]"
   ]
  },
  {
   "cell_type": "code",
   "execution_count": null,
   "id": "6b9a248e-2f4e-4ddc-bc5f-81cbcfa0ca43",
   "metadata": {
    "scrolled": true,
    "tags": []
   },
   "outputs": [],
   "source": [
    "# Create summary for numerical features\n",
    "df_mean_iqr = df_test[[*['kmeans_label'], *set(df_dunn['var'].values)]]\n",
    "df_mean_iqr['kmeans_label'] = df_mean_iqr['kmeans_label'].astype('category')\n",
    "stats_mean_iqr = df_mean_iqr.groupby('kmeans_label').agg(f)"
   ]
  },
  {
   "cell_type": "code",
   "execution_count": null,
   "id": "dab958c4-d126-41d8-be50-84d9386ba3e8",
   "metadata": {},
   "outputs": [],
   "source": [
    "# Units for numerical features\n",
    "plot_title = {'Gen.Alcohol': 'Alcohol units/week',\n",
    " 'Gen.Diastolic': 'DBP (mmHg)',\n",
    " 'Gen.Pulserate': 'Pulse rate (bpm)',\n",
    " 'Gen.Systolic': 'SBP (mmHg)',\n",
    " 'Hcm.Bsa': 'BSA (m2)',\n",
    " 'Hcm.Edv': 'LV ED volume',\n",
    " 'Hcm.Ef': 'Ejection fraction',\n",
    " 'Hcm.Esv': 'LV ES volume',\n",
    " 'Hcm.Lvm': 'LV mass',\n",
    " 'Hcm.Lvotpeakvelocity': 'LV outflow peak velocity',\n",
    " 'Hcm.Maxlvwallthickness': 'LV max WT',\n",
    " 'Hcm.Sv': 'Stroke volume',\n",
    " 'age_at_scan': 'Age'}"
   ]
  },
  {
   "cell_type": "code",
   "execution_count": null,
   "id": "5fff8d3e-3007-429c-8c1f-6dd99c9866ff",
   "metadata": {},
   "outputs": [],
   "source": [
    "# Summary plots\n",
    "rown=3\n",
    "coln=5\n",
    "fig, axs = plt.subplots(rown, coln, figsize=(20,10))\n",
    "fig.tight_layout(pad=5)\n",
    "axs = axs.flatten()\n",
    "\n",
    "for i, col in enumerate(df_mean_iqr.columns[1:]):\n",
    "\n",
    "    col_iqr = stats_mean_iqr[col].reset_index()\n",
    "    axs[i].errorbar(\n",
    "        data=col_iqr, x='median', y='kmeans_label',\n",
    "        xerr=col_iqr[['q1_diff','q3_diff']].T,\n",
    "        capsize=0, \n",
    "        elinewidth=5, \n",
    "        ls='None',\n",
    "        ecolor=['#ff7f0e', '#9467bd',  '#17becf'],\n",
    "    )\n",
    "    axs[i].scatter(data=col_iqr, x='median', y='kmeans_label', s = 70, marker = \"o\", color = ['#ff7f0e', '#9467bd',  '#17becf'])\n",
    "    \n",
    "    axs[i].set_title(plot_title[col], \n",
    "                     fontsize=10,\n",
    "                     loc='left'\n",
    "                    )\n",
    "    \n",
    "    # Significance lines\n",
    "    xlim_min = axs[i].get_xlim()[0]\n",
    "    xlim = axs[i].get_xlim()[1]\n",
    "    range_x = xlim - xlim_min\n",
    "    off = 0\n",
    "    df_sgnfc = df_dunn[df_dunn['var']==col]\n",
    "    for j, sgnfc in df_sgnfc.iterrows():\n",
    "        cl1 = sgnfc.cluster_1\n",
    "        cl2 = sgnfc.cluster_2\n",
    "        ast = sgnfc.asterisk\n",
    "        xlim = xlim + off\n",
    "        axs[i].plot([xlim, xlim, xlim, xlim], [cl1, cl2, cl2, cl1], linewidth=1.2, color='k') \n",
    "        axs[i].text(xlim+range_x*0.015, abs(cl2+cl1)/2, ast, rotation=90, fontsize=10)\n",
    "        off += range_x*0.05\n",
    "    \n",
    "for ax in axs:\n",
    "    ax.set_ylabel('Cluster', fontsize=10)\n",
    "    ax.spines['left'].set_color('black')\n",
    "    ax.spines['bottom'].set_color('black')\n",
    "    ax.xaxis.label.set_color('black')\n",
    "    ax.tick_params('both', length=6, width=1, which='major', colors='black', labelsize=8)\n",
    "    ax.locator_params(axis='x', nbins=5)\n",
    "    ax.locator_params(axis='y', nbins=3)\n",
    "    ax.xaxis.label.set_visible(False)\n",
    "\n",
    "for j in range(i+1,rown*coln):\n",
    "    fig.delaxes(axs[j])\n",
    "    \n",
    "plt.text(60, 10, 'D', weight='bold', size=20)\n",
    "\n",
    "plt.show()"
   ]
  },
  {
   "cell_type": "markdown",
   "id": "2e5cd8d8-d399-47a8-9a27-dce55c5c6ceb",
   "metadata": {},
   "source": [
    "### Circular radial plot (categorical features)"
   ]
  },
  {
   "cell_type": "code",
   "execution_count": null,
   "id": "397265a0-ccc9-4a33-a6d2-d9dd8387ad76",
   "metadata": {},
   "outputs": [],
   "source": [
    "# Processing for radial plot\n",
    "df_hgeom.pvalue_bh = df_hgeom.pvalue_bh.replace(0,10**(-15))\n",
    "df_hgeom['log_pvalue_bh'] = -np.log10(df_hgeom.pvalue_bh)"
   ]
  },
  {
   "cell_type": "code",
   "execution_count": null,
   "id": "25c9f664-16d2-4899-bfe2-3831955894f5",
   "metadata": {},
   "outputs": [],
   "source": [
    "COLOR_GRAD = {0: [\"#ff7f0e\", \"#ff923c\", \"#ffa45e\", \"#ffb67e\", \"#ffc89d\", \"#ffdbbd\"],\n",
    "           1: [\"#9467bd\", \"#a47cc7\", \"#b491d0\", \"#c3a6da\", \"#d2bce3\", \"#e1d2ec\"],\n",
    "           2: [\"#17becf\", \"#56c7d6\", \"#7ad1dd\", \"#98dae3\", \"#b3e3ea\", \"#cdedf1\"]\n",
    "          }"
   ]
  },
  {
   "cell_type": "code",
   "execution_count": null,
   "id": "8bff6cfb-5d67-4dc6-892d-8b67f73460c2",
   "metadata": {},
   "outputs": [],
   "source": [
    "df_hgeom = df_hgeom[~df_hgeom['var'].isin(['Hcm.Mostaffectedlevel'])]"
   ]
  },
  {
   "cell_type": "code",
   "execution_count": null,
   "id": "0116280a-dfe4-4c28-8623-3eb497685cbd",
   "metadata": {},
   "outputs": [],
   "source": [
    "def get_label_rotation(angle, offset):\n",
    "    rotation = np.rad2deg(angle)\n",
    "    if angle <= np.pi/2:\n",
    "        alignment = \"left\"\n",
    "    elif angle <= np.pi:\n",
    "        alignment = \"right\"\n",
    "        rotation = rotation + 180\n",
    "    elif angle <= 3*np.pi/2:\n",
    "        alignment = 'right'\n",
    "        rotation = rotation + 180\n",
    "    else: \n",
    "        alignment = \"left\"\n",
    "    return rotation, alignment\n",
    "\n",
    "def add_labels(angles, values, labels, offset, ax):\n",
    "\n",
    "    padding = 4 # space between bar and legend\n",
    "    \n",
    "    for angle, value, label, in zip(angles, values, labels):\n",
    "        angle = angle\n",
    "        rotation, alignment = get_label_rotation(angle, offset)\n",
    "        ax.text(\n",
    "            x=angle, \n",
    "            y=value + padding, \n",
    "            s=label, \n",
    "            ha=alignment, \n",
    "            va=\"center\", \n",
    "            # rotation=0, \n",
    "            rotation=rotation,\n",
    "            rotation_mode=\"anchor\",\n",
    "            fontsize=13\n",
    "        ) "
   ]
  },
  {
   "cell_type": "code",
   "execution_count": null,
   "id": "2dfc8f4f-6cd5-4ca9-8cae-2c73cecd1286",
   "metadata": {},
   "outputs": [],
   "source": [
    "fig, axs = plt.subplots(1, 3, figsize=(20, 10), subplot_kw={\"projection\": \"polar\"})\n",
    "\n",
    "for j in df_hgeom.cluster.sort_values().unique():\n",
    "\n",
    "    df_cl = df_hgeom[df_hgeom.cluster==j]\n",
    "    j-=1\n",
    "    # Grab the group values: CHANGE TO FEATURE SUBGROUPS\n",
    "    GROUP = df_cl['asterisk'].values\n",
    "    VALUES = 5*df_cl['log_pvalue_bh'].values\n",
    "    LABELS = df_cl['plot_legend']\n",
    "\n",
    "    # Add three empty bars to the end of each group\n",
    "    PAD = 1\n",
    "    ANGLES_N = len(VALUES) + PAD * len(np.unique(GROUP))\n",
    "    ANGLES = np.linspace(0, 2 * np.pi, num=ANGLES_N, endpoint=False)\n",
    "    WIDTH = (2 * np.pi) / len(ANGLES)\n",
    "\n",
    "    # Obtaining the right indexes is now a little more complicated\n",
    "    offset = 0\n",
    "    IDXS = []\n",
    "    GROUPS_SIZE = df_cl['asterisk'].value_counts(sort=False).to_list()\n",
    "    for group, size in zip(df_cl.asterisk.unique(), GROUPS_SIZE):\n",
    "        \n",
    "        IDXS += list(range(offset + PAD, offset + size + PAD))\n",
    "        # Add line below bars\n",
    "        x1 = np.linspace(ANGLES[offset + PAD], ANGLES[offset + size + PAD - 1], num=50)\n",
    "        axs[j].plot(x1, [-5] * 50, color=\"#333333\")\n",
    "\n",
    "        # Add text to indicate group\n",
    "        axs[j].text(\n",
    "            np.mean(x1), -25, group, color=\"#333333\", fontsize=14, \n",
    "            fontweight=\"bold\", ha=\"center\", va=\"center\"\n",
    "        )\n",
    "        offset += size + PAD\n",
    "    axs[j].set_theta_offset(0)\n",
    "    axs[j].set_ylim(-100, 100)\n",
    "    axs[j].set_frame_on(False)\n",
    "    axs[j].xaxis.grid(False)\n",
    "    axs[j].yaxis.grid(False)\n",
    "    axs[j].set_xticks([])\n",
    "    axs[j].set_yticks([])\n",
    "    axs[j].set_title(f'Cluster {j+1}',\n",
    "                    fontsize=16,\n",
    "                     loc='left',\n",
    "                     y=1.1,\n",
    "                    )\n",
    "\n",
    "    # Use different colors for each cluster\n",
    "    COLORS = [COLOR_GRAD[j][i] for i, size in enumerate(GROUPS_SIZE) for _ in range(size)]\n",
    " \n",
    "    axs[j].bar(\n",
    "        ANGLES[IDXS], VALUES, width=WIDTH, \n",
    "        color=COLORS, \n",
    "        edgecolor=\"white\", linewidth=2\n",
    "    )\n",
    "\n",
    "    add_labels(ANGLES[IDXS], VALUES, LABELS, offset, axs[j])\n",
    "\n",
    "plt.text(-2.5, 1.2, 'E', weight='bold',\n",
    "        horizontalalignment='left',\n",
    "        verticalalignment='top',\n",
    "        transform=plt.gca().transAxes,\n",
    "        size=20)\n",
    "plt.show()"
   ]
  },
  {
   "cell_type": "markdown",
   "id": "97ff4942-2292-4a06-bf24-8cf4e0419c5c",
   "metadata": {
    "jp-MarkdownHeadingCollapsed": true,
    "tags": []
   },
   "source": [
    "# Supplemental"
   ]
  },
  {
   "cell_type": "code",
   "execution_count": null,
   "id": "ddbb8e66-8a64-41a1-b267-5b4e7e6291a9",
   "metadata": {},
   "outputs": [],
   "source": [
    "# # Grouped circular radial plot\n",
    "# ANGLES = np.linspace(0, 2 * np.pi, len(df), endpoint=False)\n",
    "# VALUES = df[\"value\"].values\n",
    "# LABELS = df[\"name\"].values\n",
    "\n",
    "# # Determine the width of each bar. \n",
    "# # The circumference is '2 * pi', so we divide that total width over the number of bars.\n",
    "# WIDTH = 2 * np.pi / len(VALUES)\n",
    "\n",
    "# # Determines where to place the first bar. \n",
    "# # By default, matplotlib starts at 0 (the first bar is horizontal)\n",
    "# # but here we say we want to start at pi/2 (90 deg)\n",
    "# OFFSET = np.pi / 2\n",
    "\n",
    "# # Initialize Figure and Axis\n",
    "# fig, ax = plt.subplots(figsize=(20, 10), subplot_kw={\"projection\": \"polar\"})\n",
    "\n",
    "# # Specify offset\n",
    "# ax.set_theta_offset(OFFSET)\n",
    "\n",
    "# # Set limits for radial (y) axis. The negative lower bound creates the whole in the middle.\n",
    "# ax.set_ylim(-100, 100)\n",
    "\n",
    "# # Remove all spines\n",
    "# ax.set_frame_on(False)\n",
    "\n",
    "# # Remove grid and tick marks\n",
    "# ax.xaxis.grid(False)\n",
    "# ax.yaxis.grid(False)\n",
    "# ax.set_xticks([])\n",
    "# ax.set_yticks([])\n",
    "\n",
    "# # Add bars\n",
    "# ax.bar(\n",
    "#     ANGLES, VALUES, width=WIDTH, linewidth=2,\n",
    "#     color=\"#61a4b2\", edgecolor=\"white\"\n",
    "# )\n",
    "\n",
    "# # Add labels\n",
    "# add_labels(ANGLES, VALUES, LABELS, OFFSET, ax)\n",
    "\n",
    "############"
   ]
  },
  {
   "cell_type": "markdown",
   "id": "a8eeeeed-28f8-4a2a-bdac-64d6d88fc59d",
   "metadata": {
    "jp-MarkdownHeadingCollapsed": true,
    "tags": []
   },
   "source": [
    "## Info table"
   ]
  },
  {
   "cell_type": "code",
   "execution_count": null,
   "id": "f6550818-6d26-40a2-897c-59e965de8ba9",
   "metadata": {},
   "outputs": [],
   "source": [
    "# Seaborn pointplot (incorrect quantiles)\n",
    "\n",
    "sns.pointplot(\n",
    "    data=df_mean_iqr, x=col, y='kmeans_label',\n",
    "    # errorbar=lambda x: (x.min(), x.max()), \n",
    "    errorbar=lambda x: (x.quantile(0.25), x.quantile(0.75)), \n",
    "    estimator=np.median,\n",
    "    capsize=0, \n",
    "    errwidth=4, \n",
    "    join=False, \n",
    "    palette=['#ff7f0e', '#9467bd',  '#17becf'],\n",
    "    ax=axs[i]\n",
    ")"
   ]
  },
  {
   "cell_type": "code",
   "execution_count": null,
   "id": "ae685379-4d88-4762-80fe-72f1b19bb69a",
   "metadata": {
    "scrolled": true,
    "tags": []
   },
   "outputs": [],
   "source": [
    "# Table info for paper (deprecated)\n",
    "# for var in ['race', 'Gen.Activityscore', 'Gen.Ccs', 'Gen.Nyha', 'Hcm.Lvgadolinum', 'Hcm.Mitralregurgitation', 'Hcm.Lvmostaffectedsegment', 'Hcm.Mostaffectedlevel']:\n",
    "#     print(df_org[var].value_counts().sort_index())\n",
    "#     print(round(df_org[var].value_counts(normalize=True)*100,1).sort_index())"
   ]
  },
  {
   "cell_type": "code",
   "execution_count": null,
   "id": "6eccfcc8-c35b-4734-9f3d-828f975d3096",
   "metadata": {
    "scrolled": true,
    "tags": []
   },
   "outputs": [],
   "source": [
    "# Table info for paper (deprecated)\n",
    "# # Import for table in paper\n",
    "# # Get info for table (paper)\n",
    "# df_info = df_org.describe(include='all')\n",
    "# df_info = df_info.round(1)\n",
    "# df_info = df_info.T\n",
    "# print(df_info.shape[0])\n",
    "# # df_info.to_csv('clin_features_info_no_na.csv')\n",
    "# df_info"
   ]
  },
  {
   "cell_type": "markdown",
   "id": "f321ab41-198a-4bf4-a32c-c48575a4e8d8",
   "metadata": {
    "jp-MarkdownHeadingCollapsed": true,
    "tags": []
   },
   "source": [
    "## Figures"
   ]
  },
  {
   "cell_type": "code",
   "execution_count": null,
   "id": "dfd23f29-11dd-4a11-8948-7c01270c71de",
   "metadata": {},
   "outputs": [],
   "source": [
    "# Plot significant fields found with Kruskal Wallis test\n",
    "top = df_kruskal.loc[df_kruskal.pvalue_bh < 0.05, 'field']\n",
    "top = [*top[:min(len(top), 14)-1], *['genotype']]\n",
    "top = list(dict.fromkeys(top))\n",
    "df_top = pd.merge(df_test, df_umap, how='inner', left_index=True, right_index=True)\n",
    "n_cluster = len(df_test['hdbscan_label'].unique())\n",
    "\n",
    "n_row = ((len(top)-1) // 5) + 1\n",
    "n_col = min(5, len(top))\n",
    "fig, axs = plt.subplots(n_row, n_col, figsize=(40, 25))\n",
    "for i, field in enumerate(top):\n",
    "    if (set(df_top[field].dropna().unique())==set([1,2])):\n",
    "        palette='tab10'\n",
    "    else:\n",
    "        palette='hls'\n",
    "    sns.scatterplot(data=df_top, x='umap_1', y='umap_2', hue=field, palette=palette, style='hdbscan_label', s=300, ax=axs.flat[i])\n",
    "    h,l = axs.flat[i].get_legend_handles_labels()\n",
    "    size = len(h)\n",
    "    axs.flat[i].legend(h[:size-n_cluster-1],l[:size-n_cluster-1], fontsize=14) # remove symbol from legend\n",
    "    #bbox_to_anchor=(1.05, 1), loc=2, borderaxespad=0.)\n",
    "    pvalue = df_kruskal.loc[df_kruskal.field==field,'pvalue'].iloc[0]\n",
    "    pvalue = \"%.2e\"%pvalue\n",
    "    axs.flat[i].set_title(f'p-value={pvalue}', fontsize=16)\n",
    "fig.suptitle('Significant associations between clusters and features', fontsize=30, y=0.92)\n",
    "plt.show(fig)"
   ]
  },
  {
   "cell_type": "code",
   "execution_count": null,
   "id": "9073bd29-319c-4866-a2ba-ad91b6f46e1b",
   "metadata": {},
   "outputs": [],
   "source": [
    "# Figure for paper (not used)\n",
    "pos = gp.iloc[gp.index.get_level_values('genotype') == 'PLP']\n",
    "pos_fq = pos.values\n",
    "pos_fq = [f'{round(x*100, 1)}%' for x in pos_fq]\n",
    "print(pos_fq)\n",
    "\n",
    "pal = sns.color_palette('Set1_r')\n",
    "pal.as_hex()[:]\n",
    "import matplotlib.ticker as plticker\n",
    "\n",
    "markers = {'Negative': 'X', 'Positive': 's', 'Indeterminate': 'o'}\n",
    "df_plot = df_top.copy(deep=True)\n",
    "df_plot = df_plot.rename(columns={'kmeans_label':'K-means cluster and \\n proportion of genotype-positive', 'genotype':'Genotype status'})\n",
    "df_plot['Genotype status'] = df_plot['Genotype status'].replace({'NEG': 'Negative', 'PLP': 'Positive', 'VUS': 'Indeterminate'})\n",
    "df_plot['K-means cluster and \\n proportion of genotype-positive'] = df_plot['K-means cluster and \\n proportion of genotype-positive'].replace({0: f'0 ({pos_fq[0]})',\n",
    "                                                                1: f'1 ({pos_fq[1]}) (*)',\n",
    "                                                                2: f'2 ({pos_fq[2]})',})\n",
    "\n",
    "fig, ax = plt.subplots(1, 2, figsize=(16,16))\n",
    "sns.scatterplot(data=df_plot, x='umap_1', y='umap_2', \n",
    "                hue='K-means cluster and \\n proportion of genotype-positive', \n",
    "                palette='Set1', \n",
    "                style='Genotype status',\n",
    "                markers=markers,\n",
    "                s=100\n",
    "               )\n",
    "\n",
    "plt.xlabel('UMAP 1', fontsize=18)\n",
    "plt.ylabel('UMAP 2', fontsize=18)\n",
    "# plt.legend(loc='upper right')\n",
    "plt.legend(bbox_to_anchor=(1.05, 1), loc=2, borderaxespad=0.)\n",
    "fig.suptitle('Distribution of genotype status per cluster', fontsize=25, y=0.92)"
   ]
  },
  {
   "cell_type": "markdown",
   "id": "e4242c02-27ba-42fa-be55-ffab0f7d172c",
   "metadata": {
    "jp-MarkdownHeadingCollapsed": true,
    "tags": []
   },
   "source": [
    "## Shape data"
   ]
  },
  {
   "cell_type": "code",
   "execution_count": null,
   "id": "5d901c48-2b72-4255-866e-f9c310ab7c6f",
   "metadata": {},
   "outputs": [],
   "source": [
    "df_es = pd.read_csv(r\"/home/pps21@isd.csc.mrc.ac.uk/pps21/cardiac-dimred/data/raw/wallthickness_all_vertices_ES_decimated_0.99.csv\", index_col=0)\n",
    "df_ed = pd.read_csv(r\"/home/pps21@isd.csc.mrc.ac.uk/pps21/cardiac-dimred/data/raw/wallthickness_all_vertices_ED_decimated_0.99.csv\", index_col=0)\n",
    "df_es = df_es.rename(columns={'ID':'patient_id'})\n",
    "df_ed = df_ed.rename(columns={'ID':'patient_id'})\n",
    "df_es = df_es.set_index('patient_id')\n",
    "df_ed = df_ed.set_index('patient_id')\n",
    "df_es = df_es.drop(columns='genotype')\n",
    "df_ed = df_ed.drop(columns='genotype')"
   ]
  },
  {
   "cell_type": "code",
   "execution_count": null,
   "id": "0a570444-9690-40bc-8117-febafdac7aae",
   "metadata": {},
   "outputs": [],
   "source": [
    "print(df_es.shape)\n",
    "df_es.head(5)"
   ]
  },
  {
   "cell_type": "code",
   "execution_count": null,
   "id": "a822dc4d-1051-487b-9480-3721d683ad4c",
   "metadata": {},
   "outputs": [],
   "source": [
    "# Pick ES or ED for analysis\n",
    "df_all = df_es.copy(deep=True)"
   ]
  },
  {
   "cell_type": "code",
   "execution_count": null,
   "id": "5638b782-e3e9-460f-af82-6e5017630b7b",
   "metadata": {},
   "outputs": [],
   "source": [
    "scaler = MinMaxScaler()\n",
    "scaled = scaler.fit_transform(df_all)\n",
    "df_scaled = pd.DataFrame(data=scaled, columns=df_all.columns)\n",
    "df_scaled.index = df_all.index\n",
    "print(df_scaled.shape)"
   ]
  },
  {
   "cell_type": "markdown",
   "id": "6e390460-89d9-4bf2-963b-d704a4c85a85",
   "metadata": {
    "tags": []
   },
   "source": [
    "## Cox model"
   ]
  },
  {
   "cell_type": "code",
   "execution_count": null,
   "id": "06c9b9cf-6295-4e0f-b5a9-ce65237eaecb",
   "metadata": {
    "scrolled": true,
    "tags": []
   },
   "outputs": [],
   "source": [
    "# # on psm subset\n",
    "# cox predicting survival from u1 u2, on isdeceased + how many years of survival from enrollment (compute) \n",
    "# pygam cox? \n",
    "# pvalue betwen coeff and survival? \n",
    "# predict probability of survival at 1,2,5,10\n",
    "\n",
    "# df_umap12 = df_kmeans[['umap_1','umap_2','kmeans_label']]\n",
    "# df_cox = pd.merge(df_psm, df_umap12, left_index=True, right_index=True)\n",
    "# df_cox = pd.merge(df_cox, df_hcm[['Gen.Ht']], left_index=True, right_index=True)\n",
    "# print(df_cox.shape)\n",
    "# df_cox"
   ]
  },
  {
   "cell_type": "code",
   "execution_count": null,
   "id": "955cd468-0ef9-45a4-a040-679a901120bb",
   "metadata": {},
   "outputs": [],
   "source": [
    "# Cox model\n",
    "# from lifelines import CoxPHFitter\n",
    "# df_cox_model = df_cox[['umap_1','umap_2', 'is_deceased','time_censor']]\n",
    "\n",
    "# cph = CoxPHFitter()\n",
    "# cph.fit(df_cox_model, duration_col = 'time_censor', event_col = 'is_deceased')\n",
    "# cph.print_summary()"
   ]
  },
  {
   "cell_type": "code",
   "execution_count": null,
   "id": "01882d85-46cc-43e0-b302-9637615ce418",
   "metadata": {},
   "outputs": [],
   "source": [
    "# df_cox['cox_prob_1'] = cph.predict_survival_function(df_cox_model, 1).T\n",
    "# df_cox['cox_prob_2'] = cph.predict_survival_function(df_cox_model, 2).T\n",
    "# df_cox['cox_prob_5'] = cph.predict_survival_function(df_cox_model, 5).T\n",
    "# df_cox['cox_prob_10'] = cph.predict_survival_function(df_cox_model, 10).T"
   ]
  },
  {
   "cell_type": "code",
   "execution_count": null,
   "id": "cc866323-5617-46d9-b645-20ef2c06d1c1",
   "metadata": {},
   "outputs": [],
   "source": [
    "# fig, axs = plt.subplots(1, 4, figsize=(40, 10))\n",
    "# sns.scatterplot(data=df_cox, x='umap_1', y='umap_2', hue='cox_prob_1', style='is_plp', hue_norm=(0.7, 1), s=100, ax=axs[0])\n",
    "# sns.scatterplot(data=df_cox, x='umap_1', y='umap_2', hue='cox_prob_2', style='is_plp', hue_norm=(0.7, 1), s=100, ax=axs[1])\n",
    "# sns.scatterplot(data=df_cox, x='umap_1', y='umap_2', hue='cox_prob_5', style='is_plp', hue_norm=(0.7, 1), s=100, ax=axs[2])\n",
    "# sns.scatterplot(data=df_cox, x='umap_1', y='umap_2', hue='cox_prob_10', style='is_plp', hue_norm=(0.7, 1), s=100, ax=axs[3])\n",
    "\n",
    "# norm = plt.Normalize(0.5, 1)\n",
    "# cmap = sns.cubehelix_palette(light=1, as_cmap=True)\n",
    "# sm = plt.cm.ScalarMappable(cmap=cmap, norm=norm)\n",
    "# sm.set_array([])\n",
    "# # cax = fig.add_axes([axs[0].get_position().x1+0.05, axs[0].get_position().y0, 0.06, axs[0].get_position().height / 2])\n",
    "# axs[0].figure.colorbar(sm, \n",
    "#                        # cax=cax\n",
    "#                       )\n",
    "# fig.suptitle('Cox model on UMAP coordinates', fontsize=25, y=0.95)\n",
    "# axs[0].set_title('Probability of survival (1 year)')\n",
    "# axs[1].set_title('Probability of survival (2 years)')\n",
    "# axs[2].set_title('Probability of survival (5 years)')\n",
    "# axs[3].set_title('Probability of survival (10 years)')\n",
    "# axs[0].get_legend().remove()\n",
    "# axs[1].get_legend().remove()\n",
    "# axs[2].get_legend().remove()\n",
    "# axs[3].get_legend().remove()\n",
    "# plt.show()\n",
    "# fig.save('cox_umap.pdf')"
   ]
  },
  {
   "cell_type": "markdown",
   "id": "b2b503d2-ae93-48e3-9ce8-c37f3f636f47",
   "metadata": {},
   "source": [
    "## Logistic regression probability of plp"
   ]
  },
  {
   "cell_type": "code",
   "execution_count": null,
   "id": "798c7f29-a8d9-4d31-8b66-3ff85f8195ac",
   "metadata": {},
   "outputs": [],
   "source": [
    "from sklearn.linear_model import LogisticRegression\n",
    "model = LogisticRegression(solver='liblinear', random_state=0)\n",
    "model.fit(df_cox[['umap_1','umap_2']], df_cox['is_plp'])"
   ]
  },
  {
   "cell_type": "code",
   "execution_count": null,
   "id": "bddabd67-3e77-4754-b2d7-057920fd0977",
   "metadata": {},
   "outputs": [],
   "source": [
    "prob_plp = model.predict_proba(df_cox[['umap_1','umap_2']])[:,1]\n",
    "df_cox['prob_plp'] = prob_plp"
   ]
  },
  {
   "cell_type": "code",
   "execution_count": null,
   "id": "11ff6cff-142b-4bca-8764-64e9ee2b89f5",
   "metadata": {},
   "outputs": [],
   "source": [
    "sns.scatterplot(data=df_cox, x='umap_1', y='umap_2', hue='prob_plp', style='is_plp', s=100)"
   ]
  },
  {
   "cell_type": "markdown",
   "id": "cbfd41ef-9292-4dfb-ae88-2f51463ca098",
   "metadata": {},
   "source": [
    "## GAM"
   ]
  },
  {
   "cell_type": "code",
   "execution_count": null,
   "id": "acaddec4-9448-49ce-a9e9-f16046e3b716",
   "metadata": {},
   "outputs": [],
   "source": [
    "from pygam import LogisticGAM\n",
    "gam = LogisticGAM(n_splines=4).fit(df_cox[['umap_1','umap_2']], df_cox['is_plp'])"
   ]
  },
  {
   "cell_type": "code",
   "execution_count": null,
   "id": "b216a42a-b0fd-4e20-aed7-9b1312fde5be",
   "metadata": {},
   "outputs": [],
   "source": [
    "gam_prob_plp = gam.predict_proba(df_cox[['umap_1','umap_2']])\n",
    "df_cox['gam_prob_plp'] = gam_prob_plp"
   ]
  },
  {
   "cell_type": "code",
   "execution_count": null,
   "id": "f639de2b-4a69-4b8c-a0e4-b9d583f4122f",
   "metadata": {},
   "outputs": [],
   "source": [
    "sns.scatterplot(data=df_cox, x='umap_1', y='umap_2', hue='gam_prob_plp', style='is_plp', s=100)"
   ]
  },
  {
   "cell_type": "markdown",
   "id": "e8bab392-4901-433c-b24b-06675ef3daa3",
   "metadata": {},
   "source": [
    "## Propensity matching (survival)"
   ]
  },
  {
   "cell_type": "code",
   "execution_count": null,
   "id": "8414deee-9e09-4e29-9fef-635dfd2aaea4",
   "metadata": {},
   "outputs": [],
   "source": [
    "df_cov = df_hcm[['age_at_scan', 'plp' ]].reset_index()\n",
    "psm = PsmPy(df_cov, treatment='plp', indx='patient_id', exclude = [])"
   ]
  },
  {
   "cell_type": "code",
   "execution_count": null,
   "id": "53ed5e8a-4b53-4dd8-9fb1-44844de2a249",
   "metadata": {},
   "outputs": [],
   "source": [
    "psm.logistic_ps(balance = False)"
   ]
  },
  {
   "cell_type": "code",
   "execution_count": null,
   "id": "b9fa3858-12bd-4b3c-a131-bd5fbae0dd32",
   "metadata": {},
   "outputs": [],
   "source": [
    "psm.knn_matched_12n(matcher='propensity_logit', how_many=1)"
   ]
  },
  {
   "cell_type": "code",
   "execution_count": null,
   "id": "ea64e30c-3857-4266-83ef-e3956f5b25aa",
   "metadata": {
    "scrolled": true,
    "tags": []
   },
   "outputs": [],
   "source": [
    "psm.matched_ids"
   ]
  },
  {
   "cell_type": "code",
   "execution_count": null,
   "id": "fd25ba4e-f683-418f-a839-0c63290813b9",
   "metadata": {
    "scrolled": true,
    "tags": []
   },
   "outputs": [],
   "source": [
    "df_matched = psm.df_matched\n",
    "df_matched"
   ]
  },
  {
   "cell_type": "code",
   "execution_count": null,
   "id": "482aa15e-162d-418e-9435-4ac8b3196f0f",
   "metadata": {},
   "outputs": [],
   "source": [
    "list_psm = df_matched.patient_id.to_list()"
   ]
  },
  {
   "cell_type": "markdown",
   "id": "4a00401e-c65c-4570-a78d-d2a5cf796d73",
   "metadata": {},
   "source": [
    "## Include survival prediction model"
   ]
  },
  {
   "cell_type": "code",
   "execution_count": null,
   "id": "ed3a7fb1-cf78-44fa-82fd-f797d1ddc808",
   "metadata": {},
   "outputs": [],
   "source": [
    "# Label by survival probability\n",
    "df_prob = pd.read_csv(r'rbh_cb_prob_deceased.csv', index_col=0)\n",
    "df_prob = df_prob.set_index('patient_id')\n",
    "df_prob['prob_norm'] = (df_prob.prob_deceased-df_prob.prob_deceased.min())/(df_prob.prob_deceased.max()-df_prob.prob_deceased.min())\n",
    "df_prob_plot = pd.merge(df_top, df_prob, how='inner', left_index=True, right_index=True)\n",
    "plt.figure(figsize=(16,8))\n",
    "sns.scatterplot(data=df_prob_plot, x='umap_1', y='umap_2', hue='prob_deceased', palette='crest', style=labels, s=100)"
   ]
  }
 ],
 "metadata": {
  "kernelspec": {
   "display_name": "Python 3 (ipykernel)",
   "language": "python",
   "name": "python3"
  },
  "language_info": {
   "codemirror_mode": {
    "name": "ipython",
    "version": 3
   },
   "file_extension": ".py",
   "mimetype": "text/x-python",
   "name": "python",
   "nbconvert_exporter": "python",
   "pygments_lexer": "ipython3",
   "version": "3.9.12"
  }
 },
 "nbformat": 4,
 "nbformat_minor": 5
}
